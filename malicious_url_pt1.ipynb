{
 "cells": [
  {
   "cell_type": "code",
   "execution_count": 1,
   "id": "1b1a8478-5207-42cc-88a2-bbfdb53c1171",
   "metadata": {},
   "outputs": [],
   "source": [
    "import pandas as pd\n",
    "from urllib.parse import urlparse\n",
    "import re\n",
    "from sklearn.preprocessing import LabelEncoder\n",
    "from sklearn.model_selection import train_test_split\n",
    "from sklearn.ensemble import RandomForestClassifier\n"
   ]
  },
  {
   "cell_type": "markdown",
   "id": "863e2993-a7dc-4a75-ac79-c252b048ac97",
   "metadata": {},
   "source": [
    "### 0. Loading the Data\n",
    "- load the data from the dataset, as it is. It will be processed later"
   ]
  },
  {
   "cell_type": "code",
   "execution_count": 2,
   "id": "416d4d63-f3ae-4145-96bf-5ee9b104f4b2",
   "metadata": {},
   "outputs": [],
   "source": [
    "data = pd.read_csv('./dataset/malicious_phish.csv')\n",
    "#data # all the data from the dtsset is now loaded"
   ]
  },
  {
   "cell_type": "markdown",
   "id": "1508f103-f96e-4633-87cd-18b316899966",
   "metadata": {},
   "source": [
    "### 1. Data Preprocessing:\n",
    "- Clean the Data: Remove any irrelevant or redundant information from your URLs.\n",
    "  - remove missing values\n",
    "  - remove unnecessary characters\n",
    "  - keep consistent formatting\n",
    "- Label Encoding: If your labels are not already in numerical format (0 for non-malicious, 1 for malicious), you’ll need to encode them."
   ]
  },
  {
   "cell_type": "code",
   "execution_count": 3,
   "id": "16e93591-fb1f-451c-8f01-14ae6e77c51f",
   "metadata": {},
   "outputs": [],
   "source": [
    "# removing missing values\n",
    "data.dropna(inplace=True)\n",
    "\n",
    "# converting nominal type into numeric: 0=benign, 1=defacement, 3=phishing\n",
    "le = LabelEncoder() # Create an instance of LabelEncoder\n",
    "data['type'] = le.fit_transform(data['type'])\n",
    "#data"
   ]
  },
  {
   "cell_type": "markdown",
   "id": "a15aeff6-5475-468d-b62c-d70b8c19f8a0",
   "metadata": {},
   "source": [
    "### 2. Feature Extraction:\n",
    "- Tokenize URLs: Break down each URL into its components (scheme, netloc, path, params, query, fragment).\n",
    "- Extract Features: Some possible features could be the length of the URL, the number of special characters, or the presence of certain keywords."
   ]
  },
  {
   "cell_type": "code",
   "execution_count": 4,
   "id": "0a98192c-0908-4a57-802e-fdd475d8386d",
   "metadata": {},
   "outputs": [],
   "source": [
    "# function to parse everything in single call for each url\n",
    "def parse_url_funct(url):\n",
    "    res = urlparse(url)\n",
    "    netloc = res.netloc\n",
    "    path = res.path\n",
    "    if not res.scheme:\n",
    "        parts = res.path.lstrip('/').split('/', 1)\n",
    "        netloc = parts[0]\n",
    "        path = '/' + parts[1] if len(parts) > 1 else ''\n",
    "    return pd.Series({\n",
    "        'scheme': res.scheme,\n",
    "        'netloc': netloc,\n",
    "        'path': path,\n",
    "        'params': res.params,\n",
    "        'query': res.query,\n",
    "        'fragment': res.fragment\n",
    "    })\n",
    "# calculating the URL components\n",
    "data[['scheme', \n",
    "      'netloc', \n",
    "      'path', \n",
    "      'params', \n",
    "      'query', \n",
    "      'fragment']] = data['url'].apply(parse_url_funct)\n",
    "data\n",
    "\n",
    "# extracting features, like length, # special characters, keywords, etc...\n",
    "data['length'] = data['url'].apply(lambda x: len(x))\n",
    "\n",
    "def count_special_chars(string):\n",
    "    special_chars = r'[^A-Za-z0-9_.]'\n",
    "    return sum(1 for char in string if char in special_chars)\n",
    "data['specchar'] = data['url'].apply(count_special_chars)\n",
    "#data\n",
    "\n",
    "# encoding nominal into numeric tokens\n",
    "le = LabelEncoder()\n",
    "for col in ['scheme', 'netloc', 'path', 'params', 'query', 'fragment']:\n",
    "    data[col] = le.fit_transform(data[col])"
   ]
  },
  {
   "cell_type": "markdown",
   "id": "aa76b3e7-dfdb-4c1c-b164-05f049c864a6",
   "metadata": {},
   "source": [
    "### 3. Split the Dataset: \n",
    "- Divide your data into a training set and a testing set. A common ratio is 80% for training and 20% for testing."
   ]
  },
  {
   "cell_type": "code",
   "execution_count": 5,
   "id": "47b5a50d-cff9-4401-b3b4-44abc03771ea",
   "metadata": {},
   "outputs": [],
   "source": [
    "X = data.drop(['url', 'type'], axis=1)  # assuming 'url' is the target variable (for now)\n",
    "y = data['type']\n",
    "X_train, X_test, y_train, y_test = train_test_split(X, y, test_size=0.2, random_state=42)"
   ]
  },
  {
   "cell_type": "code",
   "execution_count": 6,
   "id": "d604fb5d-4154-4ed6-b56e-ea40541018da",
   "metadata": {},
   "outputs": [
    {
     "name": "stdout",
     "output_type": "stream",
     "text": [
      "(520955, 8)\n",
      "(651194,)\n"
     ]
    }
   ],
   "source": [
    "print(X_train.shape)\n",
    "print(y.shape)"
   ]
  },
  {
   "cell_type": "code",
   "execution_count": 7,
   "id": "64e9c8af-5c04-4100-9253-dd8830e27bbf",
   "metadata": {},
   "outputs": [],
   "source": [
    "# Split the dataset into training and testing sets\n",
    "#train, test = train_test_split(data, test_size=0.2, random_state=42)\n",
    "#\n",
    "# Print the shapes of the training and testing sets\n",
    "#print(f'Training set shape: {train.shape}')\n",
    "#print(f'Testing set shape: {test.shape}')"
   ]
  },
  {
   "cell_type": "markdown",
   "id": "e95e7e9e-bb53-48b5-b663-5057c76796d0",
   "metadata": {},
   "source": [
    "### 4. Choose a Model: \n",
    "- There are many machine learning algorithms you can choose from. Decision trees, random forest, and logistic regression are a few options."
   ]
  },
  {
   "cell_type": "code",
   "execution_count": 8,
   "id": "2d1ff908-e8f3-4176-b293-cd07fa0b576a",
   "metadata": {},
   "outputs": [],
   "source": [
    "model = RandomForestClassifier() # chosing model - random forest clasif..."
   ]
  },
  {
   "cell_type": "markdown",
   "id": "d36da58c-3644-403d-a7ef-f9944245c7ce",
   "metadata": {},
   "source": [
    "### 5. Train the Model: \n",
    "- Feed your training data into the model and allow it to learn from the features and corresponding labels."
   ]
  },
  {
   "cell_type": "code",
   "execution_count": 9,
   "id": "c4fdb67b-b625-42c5-901e-6dba94b5cf29",
   "metadata": {},
   "outputs": [
    {
     "data": {
      "text/html": [
       "<style>#sk-container-id-1 {color: black;background-color: white;}#sk-container-id-1 pre{padding: 0;}#sk-container-id-1 div.sk-toggleable {background-color: white;}#sk-container-id-1 label.sk-toggleable__label {cursor: pointer;display: block;width: 100%;margin-bottom: 0;padding: 0.3em;box-sizing: border-box;text-align: center;}#sk-container-id-1 label.sk-toggleable__label-arrow:before {content: \"▸\";float: left;margin-right: 0.25em;color: #696969;}#sk-container-id-1 label.sk-toggleable__label-arrow:hover:before {color: black;}#sk-container-id-1 div.sk-estimator:hover label.sk-toggleable__label-arrow:before {color: black;}#sk-container-id-1 div.sk-toggleable__content {max-height: 0;max-width: 0;overflow: hidden;text-align: left;background-color: #f0f8ff;}#sk-container-id-1 div.sk-toggleable__content pre {margin: 0.2em;color: black;border-radius: 0.25em;background-color: #f0f8ff;}#sk-container-id-1 input.sk-toggleable__control:checked~div.sk-toggleable__content {max-height: 200px;max-width: 100%;overflow: auto;}#sk-container-id-1 input.sk-toggleable__control:checked~label.sk-toggleable__label-arrow:before {content: \"▾\";}#sk-container-id-1 div.sk-estimator input.sk-toggleable__control:checked~label.sk-toggleable__label {background-color: #d4ebff;}#sk-container-id-1 div.sk-label input.sk-toggleable__control:checked~label.sk-toggleable__label {background-color: #d4ebff;}#sk-container-id-1 input.sk-hidden--visually {border: 0;clip: rect(1px 1px 1px 1px);clip: rect(1px, 1px, 1px, 1px);height: 1px;margin: -1px;overflow: hidden;padding: 0;position: absolute;width: 1px;}#sk-container-id-1 div.sk-estimator {font-family: monospace;background-color: #f0f8ff;border: 1px dotted black;border-radius: 0.25em;box-sizing: border-box;margin-bottom: 0.5em;}#sk-container-id-1 div.sk-estimator:hover {background-color: #d4ebff;}#sk-container-id-1 div.sk-parallel-item::after {content: \"\";width: 100%;border-bottom: 1px solid gray;flex-grow: 1;}#sk-container-id-1 div.sk-label:hover label.sk-toggleable__label {background-color: #d4ebff;}#sk-container-id-1 div.sk-serial::before {content: \"\";position: absolute;border-left: 1px solid gray;box-sizing: border-box;top: 0;bottom: 0;left: 50%;z-index: 0;}#sk-container-id-1 div.sk-serial {display: flex;flex-direction: column;align-items: center;background-color: white;padding-right: 0.2em;padding-left: 0.2em;position: relative;}#sk-container-id-1 div.sk-item {position: relative;z-index: 1;}#sk-container-id-1 div.sk-parallel {display: flex;align-items: stretch;justify-content: center;background-color: white;position: relative;}#sk-container-id-1 div.sk-item::before, #sk-container-id-1 div.sk-parallel-item::before {content: \"\";position: absolute;border-left: 1px solid gray;box-sizing: border-box;top: 0;bottom: 0;left: 50%;z-index: -1;}#sk-container-id-1 div.sk-parallel-item {display: flex;flex-direction: column;z-index: 1;position: relative;background-color: white;}#sk-container-id-1 div.sk-parallel-item:first-child::after {align-self: flex-end;width: 50%;}#sk-container-id-1 div.sk-parallel-item:last-child::after {align-self: flex-start;width: 50%;}#sk-container-id-1 div.sk-parallel-item:only-child::after {width: 0;}#sk-container-id-1 div.sk-dashed-wrapped {border: 1px dashed gray;margin: 0 0.4em 0.5em 0.4em;box-sizing: border-box;padding-bottom: 0.4em;background-color: white;}#sk-container-id-1 div.sk-label label {font-family: monospace;font-weight: bold;display: inline-block;line-height: 1.2em;}#sk-container-id-1 div.sk-label-container {text-align: center;}#sk-container-id-1 div.sk-container {/* jupyter's `normalize.less` sets `[hidden] { display: none; }` but bootstrap.min.css set `[hidden] { display: none !important; }` so we also need the `!important` here to be able to override the default hidden behavior on the sphinx rendered scikit-learn.org. See: https://github.com/scikit-learn/scikit-learn/issues/21755 */display: inline-block !important;position: relative;}#sk-container-id-1 div.sk-text-repr-fallback {display: none;}</style><div id=\"sk-container-id-1\" class=\"sk-top-container\"><div class=\"sk-text-repr-fallback\"><pre>RandomForestClassifier()</pre><b>In a Jupyter environment, please rerun this cell to show the HTML representation or trust the notebook. <br />On GitHub, the HTML representation is unable to render, please try loading this page with nbviewer.org.</b></div><div class=\"sk-container\" hidden><div class=\"sk-item\"><div class=\"sk-estimator sk-toggleable\"><input class=\"sk-toggleable__control sk-hidden--visually\" id=\"sk-estimator-id-1\" type=\"checkbox\" checked><label for=\"sk-estimator-id-1\" class=\"sk-toggleable__label sk-toggleable__label-arrow\">RandomForestClassifier</label><div class=\"sk-toggleable__content\"><pre>RandomForestClassifier()</pre></div></div></div></div></div>"
      ],
      "text/plain": [
       "RandomForestClassifier()"
      ]
     },
     "execution_count": 9,
     "metadata": {},
     "output_type": "execute_result"
    }
   ],
   "source": [
    "model.fit(X_train, y_train) # training the model"
   ]
  },
  {
   "cell_type": "markdown",
   "id": "6ca9e732-24bf-49c7-8409-aa7c62d857b3",
   "metadata": {},
   "source": [
    "### 6. Evaluate the Model: \n",
    "- Use your testing data to evaluate the performance of your model. Common metrics include accuracy, precision, recall, and the F1 score."
   ]
  },
  {
   "cell_type": "code",
   "execution_count": 11,
   "id": "dd5fd4b3-bda4-47b7-813c-1718a1dac170",
   "metadata": {},
   "outputs": [
    {
     "name": "stdout",
     "output_type": "stream",
     "text": [
      "              precision    recall  f1-score   support\n",
      "\n",
      "           0       0.97      0.99      0.98     85604\n",
      "           1       0.96      0.99      0.97     19370\n",
      "           2       0.97      0.92      0.95      6533\n",
      "           3       0.92      0.83      0.88     18732\n",
      "\n",
      "    accuracy                           0.96    130239\n",
      "   macro avg       0.96      0.93      0.94    130239\n",
      "weighted avg       0.96      0.96      0.96    130239\n",
      "\n"
     ]
    }
   ],
   "source": [
    "from sklearn.metrics import classification_report\n",
    "y_pred = model.predict(X_test)\n",
    "print(classification_report(y_test, y_pred))"
   ]
  },
  {
   "cell_type": "markdown",
   "id": "79c0da19-b3c7-47a4-af3d-cd4ab69a88cd",
   "metadata": {},
   "source": [
    "### 7. Optimize: \n",
    "- Based on your evaluation, you may need to go back and adjust your feature extraction, choose a different model, or fine-tune your model parameters."
   ]
  },
  {
   "cell_type": "code",
   "execution_count": null,
   "id": "ad99b7b4-416a-4c94-81a8-482ddf294323",
   "metadata": {},
   "outputs": [],
   "source": [
    "data"
   ]
  },
  {
   "cell_type": "code",
   "execution_count": 12,
   "id": "8bb2d801-b41c-47e6-8344-3b9cc8d6039e",
   "metadata": {},
   "outputs": [],
   "source": [
    "def is_url_malicious(url):\n",
    "    # Parse the URL\n",
    "    parsed_url = parse_url_funct(url)\n",
    "    \n",
    "    # Calculate the length and special characters\n",
    "    parsed_url['length'] = len(url)\n",
    "    parsed_url['specchar'] = count_special_chars(url)\n",
    "    \n",
    "    # Encode the nominal tokens\n",
    "    for col in ['scheme', 'netloc', 'path', 'params', 'query', 'fragment']:\n",
    "        parsed_url[col] = le.fit_transform([parsed_url[col]])\n",
    "    \n",
    "    # Predict if the URL is malicious\n",
    "    prediction = model.predict([parsed_url])\n",
    "    \n",
    "    # Return True if the URL is predicted to be malicious, False otherwise\n",
    "    return prediction[0] != 0  # assuming '0' is benign\n"
   ]
  },
  {
   "cell_type": "code",
   "execution_count": 17,
   "id": "89b4ca08-3760-4d8d-88d2-6b4614e95536",
   "metadata": {},
   "outputs": [
    {
     "name": "stdout",
     "output_type": "stream",
     "text": [
      "The URL google.com is malicious.\n"
     ]
    },
    {
     "name": "stderr",
     "output_type": "stream",
     "text": [
      "/home/zstoimchev/anaconda3/lib/python3.11/site-packages/sklearn/base.py:439: UserWarning: X does not have valid feature names, but RandomForestClassifier was fitted with feature names\n",
      "  warnings.warn(\n"
     ]
    }
   ],
   "source": [
    "url = \"https://zstoimchev.github.io\"\n",
    "url2 = \"telefonservis.mk\"\n",
    "url3 = \"dobridaskalov.edu.mk\"\n",
    "url4 = \"www.famnit.upr.si\"\n",
    "url5 = \"google.com\"\n",
    "if is_url_malicious(url):\n",
    "    print(f\"The URL {url5} is malicious.\")\n",
    "else:\n",
    "    print(f\"The URL {url5} is not malicious.\")\n"
   ]
  },
  {
   "cell_type": "code",
   "execution_count": null,
   "id": "92421f85-a826-4566-beee-3e336c7abbb0",
   "metadata": {},
   "outputs": [],
   "source": []
  }
 ],
 "metadata": {
  "kernelspec": {
   "display_name": "Python 3 (ipykernel)",
   "language": "python",
   "name": "python3"
  },
  "language_info": {
   "codemirror_mode": {
    "name": "ipython",
    "version": 3
   },
   "file_extension": ".py",
   "mimetype": "text/x-python",
   "name": "python",
   "nbconvert_exporter": "python",
   "pygments_lexer": "ipython3",
   "version": "3.11.5"
  }
 },
 "nbformat": 4,
 "nbformat_minor": 5
}
