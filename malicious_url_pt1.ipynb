{
 "cells": [
  {
   "cell_type": "code",
   "execution_count": 12,
   "id": "1b1a8478-5207-42cc-88a2-bbfdb53c1171",
   "metadata": {},
   "outputs": [],
   "source": [
    "import pandas as pd\n",
    "import re"
   ]
  },
  {
   "cell_type": "markdown",
   "id": "863e2993-a7dc-4a75-ac79-c252b048ac97",
   "metadata": {},
   "source": [
    "### 0. Loading the Data\n",
    "- load the data from the dataset, as it is. It will be processed later"
   ]
  },
  {
   "cell_type": "code",
   "execution_count": 20,
   "id": "416d4d63-f3ae-4145-96bf-5ee9b104f4b2",
   "metadata": {},
   "outputs": [
    {
     "data": {
      "text/html": [
       "<div>\n",
       "<style scoped>\n",
       "    .dataframe tbody tr th:only-of-type {\n",
       "        vertical-align: middle;\n",
       "    }\n",
       "\n",
       "    .dataframe tbody tr th {\n",
       "        vertical-align: top;\n",
       "    }\n",
       "\n",
       "    .dataframe thead th {\n",
       "        text-align: right;\n",
       "    }\n",
       "</style>\n",
       "<table border=\"1\" class=\"dataframe\">\n",
       "  <thead>\n",
       "    <tr style=\"text-align: right;\">\n",
       "      <th></th>\n",
       "      <th>url</th>\n",
       "      <th>type</th>\n",
       "    </tr>\n",
       "  </thead>\n",
       "  <tbody>\n",
       "    <tr>\n",
       "      <th>0</th>\n",
       "      <td>br-icloud.com.br</td>\n",
       "      <td>phishing</td>\n",
       "    </tr>\n",
       "    <tr>\n",
       "      <th>1</th>\n",
       "      <td>mp3raid.com/music/krizz_kaliko.html</td>\n",
       "      <td>benign</td>\n",
       "    </tr>\n",
       "    <tr>\n",
       "      <th>2</th>\n",
       "      <td>bopsecrets.org/rexroth/cr/1.htm</td>\n",
       "      <td>benign</td>\n",
       "    </tr>\n",
       "    <tr>\n",
       "      <th>3</th>\n",
       "      <td>http://www.garage-pirenne.be/index.php?option=...</td>\n",
       "      <td>defacement</td>\n",
       "    </tr>\n",
       "    <tr>\n",
       "      <th>4</th>\n",
       "      <td>http://adventure-nicaragua.net/index.php?optio...</td>\n",
       "      <td>defacement</td>\n",
       "    </tr>\n",
       "    <tr>\n",
       "      <th>...</th>\n",
       "      <td>...</td>\n",
       "      <td>...</td>\n",
       "    </tr>\n",
       "    <tr>\n",
       "      <th>651189</th>\n",
       "      <td>en.wikipedia.org/wiki/Dead_Space_(video_game)</td>\n",
       "      <td>phishing</td>\n",
       "    </tr>\n",
       "    <tr>\n",
       "      <th>651190</th>\n",
       "      <td>www.angelfire.com/goth/devilmaycrytonite/</td>\n",
       "      <td>phishing</td>\n",
       "    </tr>\n",
       "    <tr>\n",
       "      <th>651191</th>\n",
       "      <td>http://www.garage-pirenne.be/index.php?option=...</td>\n",
       "      <td>defacement</td>\n",
       "    </tr>\n",
       "    <tr>\n",
       "      <th>651192</th>\n",
       "      <td>zstoimchev.github.io</td>\n",
       "      <td>benign</td>\n",
       "    </tr>\n",
       "    <tr>\n",
       "      <th>651193</th>\n",
       "      <td>telefonservis.mk</td>\n",
       "      <td>benign</td>\n",
       "    </tr>\n",
       "  </tbody>\n",
       "</table>\n",
       "<p>651194 rows × 2 columns</p>\n",
       "</div>"
      ],
      "text/plain": [
       "                                                      url        type\n",
       "0                                        br-icloud.com.br    phishing\n",
       "1                     mp3raid.com/music/krizz_kaliko.html      benign\n",
       "2                         bopsecrets.org/rexroth/cr/1.htm      benign\n",
       "3       http://www.garage-pirenne.be/index.php?option=...  defacement\n",
       "4       http://adventure-nicaragua.net/index.php?optio...  defacement\n",
       "...                                                   ...         ...\n",
       "651189      en.wikipedia.org/wiki/Dead_Space_(video_game)    phishing\n",
       "651190          www.angelfire.com/goth/devilmaycrytonite/    phishing\n",
       "651191  http://www.garage-pirenne.be/index.php?option=...  defacement\n",
       "651192                               zstoimchev.github.io      benign\n",
       "651193                                   telefonservis.mk      benign\n",
       "\n",
       "[651194 rows x 2 columns]"
      ]
     },
     "execution_count": 20,
     "metadata": {},
     "output_type": "execute_result"
    }
   ],
   "source": [
    "data = pd.read_csv('./dataset/malicious_phish.csv')\n",
    "data # original data, containing protocol"
   ]
  },
  {
   "cell_type": "markdown",
   "id": "1508f103-f96e-4633-87cd-18b316899966",
   "metadata": {},
   "source": [
    "### 1. Data Preprocessing:\n",
    "- Clean the Data: Remove any irrelevant or redundant information from your URLs.\n",
    "  - remove missing values\n",
    "  - remove unnecessary characters\n",
    "  - keep consistent formatting\n",
    "- Label Encoding: If your labels are not already in numerical format (0 for non-malicious, 1 for malicious), you’ll need to encode them."
   ]
  },
  {
   "cell_type": "code",
   "execution_count": null,
   "id": "16e93591-fb1f-451c-8f01-14ae6e77c51f",
   "metadata": {},
   "outputs": [],
   "source": [
    "# removing missing values\n",
    "data.dropna(inplace=True)\n",
    "\n",
    "# removing the protocol from the url\n",
    "protocols = ['sftp', 'smtp', 'snmp', 'http', 'https', 'ftp'] # protocols to be removed from the URLs\n",
    "pattern = r'(' + '|'.join(f'{protocol}://' for protocol in protocols) + ')' # regular expression to match any protocols in the URLs\n",
    "data['url'] = data['url'].apply(lambda url: re.sub(pattern, '', url)) # apply the regular expression and remove the protocol\n",
    "\n",
    "# removing query parameters\n",
    "data['url'] = data['url'].apply(lambda x: x.split('?')[0])\n",
    "\n",
    "# remove non-alphanumeric characters\n",
    "pattern = r'[^A-Za-z0-0_.]' # regular expression\n",
    "data['url'] = data['url'].apply(lambda x: re.sub(pattern, '', x)) # applying the RE\n",
    "\n",
    "data # data without query parameters\n",
    "\n",
    "# TODO: maybe a good idea is to convert the types from nominal to numeric "
   ]
  },
  {
   "cell_type": "markdown",
   "id": "a15aeff6-5475-468d-b62c-d70b8c19f8a0",
   "metadata": {},
   "source": [
    "### 2. Feature Extraction:\n",
    "- Tokenize URLs: Break down each URL into its components (scheme, netloc, path, params, query, fragment).\n",
    "- Extract Features: Some possible features could be the length of the URL, the number of special characters, or the presence of certain keywords."
   ]
  },
  {
   "cell_type": "code",
   "execution_count": null,
   "id": "b6ef14fc-cf16-4c1b-8702-7a6def41b839",
   "metadata": {},
   "outputs": [],
   "source": []
  },
  {
   "cell_type": "markdown",
   "id": "aa76b3e7-dfdb-4c1c-b164-05f049c864a6",
   "metadata": {},
   "source": [
    "### 3. Split the Dataset: \n",
    "- Divide your data into a training set and a testing set. A common ratio is 80% for training and 20% for testing."
   ]
  },
  {
   "cell_type": "code",
   "execution_count": null,
   "id": "e69353f6-ecbc-4135-a91b-531a3cea821a",
   "metadata": {},
   "outputs": [],
   "source": []
  },
  {
   "cell_type": "markdown",
   "id": "e95e7e9e-bb53-48b5-b663-5057c76796d0",
   "metadata": {},
   "source": [
    "### 4. Choose a Model: \n",
    "- There are many machine learning algorithms you can choose from. Decision trees, random forest, and logistic regression are a few options."
   ]
  },
  {
   "cell_type": "code",
   "execution_count": null,
   "id": "057dd60a-c224-4ae5-b208-0f14b0a77781",
   "metadata": {},
   "outputs": [],
   "source": []
  },
  {
   "cell_type": "markdown",
   "id": "d36da58c-3644-403d-a7ef-f9944245c7ce",
   "metadata": {},
   "source": [
    "### 5. Train the Model: \n",
    "- Feed your training data into the model and allow it to learn from the features and corresponding labels."
   ]
  },
  {
   "cell_type": "code",
   "execution_count": null,
   "id": "7c4d0a02-b917-4d33-9023-9f0a61291a77",
   "metadata": {},
   "outputs": [],
   "source": []
  },
  {
   "cell_type": "markdown",
   "id": "6ca9e732-24bf-49c7-8409-aa7c62d857b3",
   "metadata": {},
   "source": [
    "### 6. Evaluate the Model: \n",
    "- Use your testing data to evaluate the performance of your model. Common metrics include accuracy, precision, recall, and the F1 score."
   ]
  },
  {
   "cell_type": "code",
   "execution_count": null,
   "id": "dd5fd4b3-bda4-47b7-813c-1718a1dac170",
   "metadata": {},
   "outputs": [],
   "source": []
  },
  {
   "cell_type": "markdown",
   "id": "79c0da19-b3c7-47a4-af3d-cd4ab69a88cd",
   "metadata": {},
   "source": [
    "### 7. Optimize: \n",
    "- Based on your evaluation, you may need to go back and adjust your feature extraction, choose a different model, or fine-tune your model parameters."
   ]
  },
  {
   "cell_type": "code",
   "execution_count": null,
   "id": "ad99b7b4-416a-4c94-81a8-482ddf294323",
   "metadata": {},
   "outputs": [],
   "source": []
  }
 ],
 "metadata": {
  "kernelspec": {
   "display_name": "Python 3 (ipykernel)",
   "language": "python",
   "name": "python3"
  },
  "language_info": {
   "codemirror_mode": {
    "name": "ipython",
    "version": 3
   },
   "file_extension": ".py",
   "mimetype": "text/x-python",
   "name": "python",
   "nbconvert_exporter": "python",
   "pygments_lexer": "ipython3",
   "version": "3.11.5"
  }
 },
 "nbformat": 4,
 "nbformat_minor": 5
}
