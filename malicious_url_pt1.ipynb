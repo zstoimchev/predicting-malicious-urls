{
 "cells": [
  {
   "cell_type": "code",
   "execution_count": 31,
   "id": "1b1a8478-5207-42cc-88a2-bbfdb53c1171",
   "metadata": {},
   "outputs": [],
   "source": [
    "import pandas as pd\n",
    "import re\n",
    "from sklearn.preprocessing import LabelEncoder\n",
    "from sklearn.model_selection import train_test_split\n",
    "from sklearn.model_selection import cross_val_score"
   ]
  },
  {
   "cell_type": "markdown",
   "id": "863e2993-a7dc-4a75-ac79-c252b048ac97",
   "metadata": {},
   "source": [
    "### 0. Loading the Data\n",
    "- load the data from the dataset, as it is. It will be processed later"
   ]
  },
  {
   "cell_type": "code",
   "execution_count": 32,
   "id": "416d4d63-f3ae-4145-96bf-5ee9b104f4b2",
   "metadata": {},
   "outputs": [
    {
     "data": {
      "text/html": [
       "<div>\n",
       "<style scoped>\n",
       "    .dataframe tbody tr th:only-of-type {\n",
       "        vertical-align: middle;\n",
       "    }\n",
       "\n",
       "    .dataframe tbody tr th {\n",
       "        vertical-align: top;\n",
       "    }\n",
       "\n",
       "    .dataframe thead th {\n",
       "        text-align: right;\n",
       "    }\n",
       "</style>\n",
       "<table border=\"1\" class=\"dataframe\">\n",
       "  <thead>\n",
       "    <tr style=\"text-align: right;\">\n",
       "      <th></th>\n",
       "      <th>url</th>\n",
       "      <th>type</th>\n",
       "    </tr>\n",
       "  </thead>\n",
       "  <tbody>\n",
       "    <tr>\n",
       "      <th>0</th>\n",
       "      <td>br-icloud.com.br</td>\n",
       "      <td>phishing</td>\n",
       "    </tr>\n",
       "    <tr>\n",
       "      <th>1</th>\n",
       "      <td>mp3raid.com/music/krizz_kaliko.html</td>\n",
       "      <td>benign</td>\n",
       "    </tr>\n",
       "    <tr>\n",
       "      <th>2</th>\n",
       "      <td>bopsecrets.org/rexroth/cr/1.htm</td>\n",
       "      <td>benign</td>\n",
       "    </tr>\n",
       "    <tr>\n",
       "      <th>3</th>\n",
       "      <td>http://www.garage-pirenne.be/index.php?option=...</td>\n",
       "      <td>defacement</td>\n",
       "    </tr>\n",
       "    <tr>\n",
       "      <th>4</th>\n",
       "      <td>http://adventure-nicaragua.net/index.php?optio...</td>\n",
       "      <td>defacement</td>\n",
       "    </tr>\n",
       "    <tr>\n",
       "      <th>...</th>\n",
       "      <td>...</td>\n",
       "      <td>...</td>\n",
       "    </tr>\n",
       "    <tr>\n",
       "      <th>651189</th>\n",
       "      <td>en.wikipedia.org/wiki/Dead_Space_(video_game)</td>\n",
       "      <td>phishing</td>\n",
       "    </tr>\n",
       "    <tr>\n",
       "      <th>651190</th>\n",
       "      <td>www.angelfire.com/goth/devilmaycrytonite/</td>\n",
       "      <td>phishing</td>\n",
       "    </tr>\n",
       "    <tr>\n",
       "      <th>651191</th>\n",
       "      <td>http://www.garage-pirenne.be/index.php?option=...</td>\n",
       "      <td>defacement</td>\n",
       "    </tr>\n",
       "    <tr>\n",
       "      <th>651192</th>\n",
       "      <td>zstoimchev.github.io</td>\n",
       "      <td>benign</td>\n",
       "    </tr>\n",
       "    <tr>\n",
       "      <th>651193</th>\n",
       "      <td>telefonservis.mk</td>\n",
       "      <td>benign</td>\n",
       "    </tr>\n",
       "  </tbody>\n",
       "</table>\n",
       "<p>651194 rows × 2 columns</p>\n",
       "</div>"
      ],
      "text/plain": [
       "                                                      url        type\n",
       "0                                        br-icloud.com.br    phishing\n",
       "1                     mp3raid.com/music/krizz_kaliko.html      benign\n",
       "2                         bopsecrets.org/rexroth/cr/1.htm      benign\n",
       "3       http://www.garage-pirenne.be/index.php?option=...  defacement\n",
       "4       http://adventure-nicaragua.net/index.php?optio...  defacement\n",
       "...                                                   ...         ...\n",
       "651189      en.wikipedia.org/wiki/Dead_Space_(video_game)    phishing\n",
       "651190          www.angelfire.com/goth/devilmaycrytonite/    phishing\n",
       "651191  http://www.garage-pirenne.be/index.php?option=...  defacement\n",
       "651192                               zstoimchev.github.io      benign\n",
       "651193                                   telefonservis.mk      benign\n",
       "\n",
       "[651194 rows x 2 columns]"
      ]
     },
     "execution_count": 32,
     "metadata": {},
     "output_type": "execute_result"
    }
   ],
   "source": [
    "data = pd.read_csv('./dataset/malicious_phish.csv')\n",
    "data # all the data from the dtsset is now loaded"
   ]
  },
  {
   "cell_type": "markdown",
   "id": "1508f103-f96e-4633-87cd-18b316899966",
   "metadata": {},
   "source": [
    "### 1. Data Preprocessing:\n",
    "- Clean the Data: Remove any irrelevant or redundant information from your URLs.\n",
    "  - remove missing values\n",
    "  - remove unnecessary characters\n",
    "  - keep consistent formatting\n",
    "- Label Encoding: If your labels are not already in numerical format (0 for non-malicious, 1 for malicious), you’ll need to encode them."
   ]
  },
  {
   "cell_type": "code",
   "execution_count": 33,
   "id": "16e93591-fb1f-451c-8f01-14ae6e77c51f",
   "metadata": {},
   "outputs": [
    {
     "data": {
      "text/html": [
       "<div>\n",
       "<style scoped>\n",
       "    .dataframe tbody tr th:only-of-type {\n",
       "        vertical-align: middle;\n",
       "    }\n",
       "\n",
       "    .dataframe tbody tr th {\n",
       "        vertical-align: top;\n",
       "    }\n",
       "\n",
       "    .dataframe thead th {\n",
       "        text-align: right;\n",
       "    }\n",
       "</style>\n",
       "<table border=\"1\" class=\"dataframe\">\n",
       "  <thead>\n",
       "    <tr style=\"text-align: right;\">\n",
       "      <th></th>\n",
       "      <th>url</th>\n",
       "      <th>type</th>\n",
       "    </tr>\n",
       "  </thead>\n",
       "  <tbody>\n",
       "    <tr>\n",
       "      <th>0</th>\n",
       "      <td>br-icloud.com.br</td>\n",
       "      <td>3</td>\n",
       "    </tr>\n",
       "    <tr>\n",
       "      <th>1</th>\n",
       "      <td>mp3raid.com/music/krizz_kaliko.html</td>\n",
       "      <td>0</td>\n",
       "    </tr>\n",
       "    <tr>\n",
       "      <th>2</th>\n",
       "      <td>bopsecrets.org/rexroth/cr/1.htm</td>\n",
       "      <td>0</td>\n",
       "    </tr>\n",
       "    <tr>\n",
       "      <th>3</th>\n",
       "      <td>http://www.garage-pirenne.be/index.php?option=...</td>\n",
       "      <td>1</td>\n",
       "    </tr>\n",
       "    <tr>\n",
       "      <th>4</th>\n",
       "      <td>http://adventure-nicaragua.net/index.php?optio...</td>\n",
       "      <td>1</td>\n",
       "    </tr>\n",
       "    <tr>\n",
       "      <th>...</th>\n",
       "      <td>...</td>\n",
       "      <td>...</td>\n",
       "    </tr>\n",
       "    <tr>\n",
       "      <th>651189</th>\n",
       "      <td>en.wikipedia.org/wiki/Dead_Space_(video_game)</td>\n",
       "      <td>3</td>\n",
       "    </tr>\n",
       "    <tr>\n",
       "      <th>651190</th>\n",
       "      <td>www.angelfire.com/goth/devilmaycrytonite/</td>\n",
       "      <td>3</td>\n",
       "    </tr>\n",
       "    <tr>\n",
       "      <th>651191</th>\n",
       "      <td>http://www.garage-pirenne.be/index.php?option=...</td>\n",
       "      <td>1</td>\n",
       "    </tr>\n",
       "    <tr>\n",
       "      <th>651192</th>\n",
       "      <td>zstoimchev.github.io</td>\n",
       "      <td>0</td>\n",
       "    </tr>\n",
       "    <tr>\n",
       "      <th>651193</th>\n",
       "      <td>telefonservis.mk</td>\n",
       "      <td>0</td>\n",
       "    </tr>\n",
       "  </tbody>\n",
       "</table>\n",
       "<p>651194 rows × 2 columns</p>\n",
       "</div>"
      ],
      "text/plain": [
       "                                                      url  type\n",
       "0                                        br-icloud.com.br     3\n",
       "1                     mp3raid.com/music/krizz_kaliko.html     0\n",
       "2                         bopsecrets.org/rexroth/cr/1.htm     0\n",
       "3       http://www.garage-pirenne.be/index.php?option=...     1\n",
       "4       http://adventure-nicaragua.net/index.php?optio...     1\n",
       "...                                                   ...   ...\n",
       "651189      en.wikipedia.org/wiki/Dead_Space_(video_game)     3\n",
       "651190          www.angelfire.com/goth/devilmaycrytonite/     3\n",
       "651191  http://www.garage-pirenne.be/index.php?option=...     1\n",
       "651192                               zstoimchev.github.io     0\n",
       "651193                                   telefonservis.mk     0\n",
       "\n",
       "[651194 rows x 2 columns]"
      ]
     },
     "execution_count": 33,
     "metadata": {},
     "output_type": "execute_result"
    }
   ],
   "source": [
    "# removing missing values\n",
    "data.dropna(inplace=True)\n",
    "data # data without empty values\n",
    "\n",
    "# converting nominal type into numeric: 0=benign, 1=defacement, 3=phishing\n",
    "le = LabelEncoder() # Create an instance of LabelEncoder\n",
    "data['type'] = le.fit_transform(data['type'])\n",
    "data"
   ]
  },
  {
   "cell_type": "markdown",
   "id": "a15aeff6-5475-468d-b62c-d70b8c19f8a0",
   "metadata": {},
   "source": [
    "### 2. Feature Extraction:\n",
    "- Tokenize URLs: Break down each URL into its components (scheme, netloc, path, params, query, fragment).\n",
    "- Extract Features: Some possible features could be the length of the URL, the number of special characters, or the presence of certain keywords."
   ]
  },
  {
   "cell_type": "code",
   "execution_count": 34,
   "id": "0a98192c-0908-4a57-802e-fdd475d8386d",
   "metadata": {},
   "outputs": [],
   "source": [
    "# function to parse everything in single call for each url\n",
    "def parse_url_funct(url):\n",
    "    res = urlparse(url)\n",
    "    #netloc = url.split('/')[0] if '://' not in url else res.netloc\n",
    "    netloc = res.netloc\n",
    "    path = res.path\n",
    "    if not res.scheme:\n",
    "        parts = res.path.lstrip('/').split('/', 1)\n",
    "        netloc = parts[0]\n",
    "        path = '/' + parts[1] if len(parts) > 1 else ''\n",
    "    return pd.Series({\n",
    "        'scheme': res.scheme,\n",
    "        'netloc': netloc,\n",
    "        'path': path,\n",
    "        'params': res.params,\n",
    "        'query': res.query,\n",
    "        'fragment': res.fragment\n",
    "    })\n",
    "# calculating the URL components\n",
    "data[['scheme', \n",
    "      'netloc', \n",
    "      'path', \n",
    "      'params', \n",
    "      'query', \n",
    "      'fragment']] = data['url'].apply(parse_url_funct)\n",
    "data\n",
    "\n",
    "# extracting features, like length, # special characters, keywords, etc...\n",
    "data['length'] = data['url'].apply(lambda x: len(x))\n",
    "\n",
    "def count_special_chars(string):\n",
    "    special_chars = r'[^A-Za-z0-0_.]'\n",
    "    return sum(1 for char in string if char in special_chars)\n",
    "data['specchar'] = data['url'].apply(count_special_chars)\n"
   ]
  },
  {
   "cell_type": "markdown",
   "id": "aa76b3e7-dfdb-4c1c-b164-05f049c864a6",
   "metadata": {},
   "source": [
    "### 3. Split the Dataset: \n",
    "- Divide your data into a training set and a testing set. A common ratio is 80% for training and 20% for testing."
   ]
  },
  {
   "cell_type": "code",
   "execution_count": 37,
   "id": "47b5a50d-cff9-4401-b3b4-44abc03771ea",
   "metadata": {},
   "outputs": [],
   "source": [
    "# this allows extra data preparation or something like that, idk for sure\n",
    "# Assume df is your DataFrame and you want to split \"y\" column as target\n",
    "X = data.drop('url', axis=1)  # features\n",
    "y = data['url']  # target variable\n",
    "\n",
    "X_train, X_test, y_train, y_test = train_test_split(X, y, test_size=0.2, random_state=42)"
   ]
  },
  {
   "cell_type": "code",
   "execution_count": null,
   "id": "d604fb5d-4154-4ed6-b56e-ea40541018da",
   "metadata": {},
   "outputs": [],
   "source": []
  },
  {
   "cell_type": "code",
   "execution_count": 30,
   "id": "64e9c8af-5c04-4100-9253-dd8830e27bbf",
   "metadata": {},
   "outputs": [
    {
     "name": "stdout",
     "output_type": "stream",
     "text": [
      "Training set shape: (520955, 10)\n",
      "Testing set shape: (130239, 10)\n"
     ]
    }
   ],
   "source": [
    "# Split the dataset into training and testing sets\n",
    "train, test = train_test_split(data, test_size=0.2, random_state=42)\n",
    "\n",
    "# Print the shapes of the training and testing sets\n",
    "print(f'Training set shape: {train.shape}')\n",
    "print(f'Testing set shape: {test.shape}')"
   ]
  },
  {
   "cell_type": "markdown",
   "id": "e95e7e9e-bb53-48b5-b663-5057c76796d0",
   "metadata": {},
   "source": [
    "### 4. Choose a Model: \n",
    "- There are many machine learning algorithms you can choose from. Decision trees, random forest, and logistic regression are a few options."
   ]
  },
  {
   "cell_type": "code",
   "execution_count": null,
   "id": "057dd60a-c224-4ae5-b208-0f14b0a77781",
   "metadata": {},
   "outputs": [],
   "source": [
    "\n",
    "# Create your machine learning model\n",
    "model = YourModel()\n",
    "\n",
    "# Perform cross-validation\n",
    "scores = cross_val_score(model, X_train, y_train, cv=5)\n",
    "\n",
    "# Print the mean score and standard deviation of the scores\n",
    "print(f\"Accuracy: {scores.mean():.2f} (+/- {scores.std():.2f})\")"
   ]
  },
  {
   "cell_type": "markdown",
   "id": "d36da58c-3644-403d-a7ef-f9944245c7ce",
   "metadata": {},
   "source": [
    "### 5. Train the Model: \n",
    "- Feed your training data into the model and allow it to learn from the features and corresponding labels."
   ]
  },
  {
   "cell_type": "code",
   "execution_count": null,
   "id": "7c4d0a02-b917-4d33-9023-9f0a61291a77",
   "metadata": {},
   "outputs": [],
   "source": []
  },
  {
   "cell_type": "markdown",
   "id": "6ca9e732-24bf-49c7-8409-aa7c62d857b3",
   "metadata": {},
   "source": [
    "### 6. Evaluate the Model: \n",
    "- Use your testing data to evaluate the performance of your model. Common metrics include accuracy, precision, recall, and the F1 score."
   ]
  },
  {
   "cell_type": "code",
   "execution_count": null,
   "id": "dd5fd4b3-bda4-47b7-813c-1718a1dac170",
   "metadata": {},
   "outputs": [],
   "source": []
  },
  {
   "cell_type": "markdown",
   "id": "79c0da19-b3c7-47a4-af3d-cd4ab69a88cd",
   "metadata": {},
   "source": [
    "### 7. Optimize: \n",
    "- Based on your evaluation, you may need to go back and adjust your feature extraction, choose a different model, or fine-tune your model parameters."
   ]
  },
  {
   "cell_type": "code",
   "execution_count": null,
   "id": "ad99b7b4-416a-4c94-81a8-482ddf294323",
   "metadata": {},
   "outputs": [],
   "source": []
  }
 ],
 "metadata": {
  "kernelspec": {
   "display_name": "Python 3 (ipykernel)",
   "language": "python",
   "name": "python3"
  },
  "language_info": {
   "codemirror_mode": {
    "name": "ipython",
    "version": 3
   },
   "file_extension": ".py",
   "mimetype": "text/x-python",
   "name": "python",
   "nbconvert_exporter": "python",
   "pygments_lexer": "ipython3",
   "version": "3.11.5"
  }
 },
 "nbformat": 4,
 "nbformat_minor": 5
}
