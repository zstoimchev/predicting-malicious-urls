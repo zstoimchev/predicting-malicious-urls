import pandas as pd
import tldextract
from sklearn.feature_extraction.text import CountVectorizer
from sklearn.model_selection import train_test_split


data = pd.read_csv('dataset/malicious_phish.csv') # loading the data from the dataset
print(data)


data['url'] = data['url'].str.replace('[^\w\s]','') # preprocessing the data, removing all non-alphanumeric characters and whitespaces from the url column, except underscores
print(data)


data['domain'] = data['url'].apply(lambda url: tldextract.extract(url).domain) # extract the domain from the url
print(data['domain'])
data['suffix'] = data['url'].apply(lambda url: tldextract.extract(url).suffix) # extract the suffix from the url
print(data['suffix'])


# vectorizing my data, converting nominal into numerical attricutes
vectorizer = CountVectorizer()
features = vectorizer.fit_transform(data['domain'] + ' ' + data['suffix'])


# Split the data
X_train, X_test, y_train, y_test = train_test_split(features, data['label'], test_size=0.2, random_state=42)


# Train your model
model = LogisticRegression()
model.fit(X_train, y_train)


# Now you can use your trained model to predict new URLs
new_url = 'example.com'
new_features = vectorizer.transform([new_url])
prediction = model.predict(new_features)
