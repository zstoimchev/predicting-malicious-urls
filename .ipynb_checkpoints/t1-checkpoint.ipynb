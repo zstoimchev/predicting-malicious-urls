{
 "cells": [
  {
   "cell_type": "code",
   "execution_count": 1,
   "id": "f44c7ac3-763c-406c-af7b-ec3dad370609",
   "metadata": {},
   "outputs": [],
   "source": [
    "import pandas as pd\n",
    "import tldextract\n",
    "from sklearn.feature_extraction.text import CountVectorizer\n",
    "from sklearn.model_selection import train_test_split\n",
    "from sklearn.linear_model import LogisticRegression"
   ]
  },
  {
   "cell_type": "code",
   "execution_count": 2,
   "id": "1d2ce438-6b9d-42f4-bea2-e25ec646bbc0",
   "metadata": {},
   "outputs": [
    {
     "name": "stdout",
     "output_type": "stream",
     "text": [
      "                                                      url        type\n",
      "0                                        br-icloud.com.br    phishing\n",
      "1                     mp3raid.com/music/krizz_kaliko.html      benign\n",
      "2                         bopsecrets.org/rexroth/cr/1.htm      benign\n",
      "3       http://www.garage-pirenne.be/index.php?option=...  defacement\n",
      "4       http://adventure-nicaragua.net/index.php?optio...  defacement\n",
      "...                                                   ...         ...\n",
      "651186            xbox360.ign.com/objects/850/850402.html    phishing\n",
      "651187       games.teamxbox.com/xbox-360/1860/Dead-Space/    phishing\n",
      "651188         www.gamespot.com/xbox360/action/deadspace/    phishing\n",
      "651189      en.wikipedia.org/wiki/Dead_Space_(video_game)    phishing\n",
      "651190          www.angelfire.com/goth/devilmaycrytonite/    phishing\n",
      "\n",
      "[651191 rows x 2 columns]\n"
     ]
    }
   ],
   "source": [
    "data = pd.read_csv('dataset/malicious_phish.csv') # loading the data from the dataset\n",
    "print(data)"
   ]
  },
  {
   "cell_type": "code",
   "execution_count": 3,
   "id": "7690139a-79b5-4be3-a6d4-6422313a0e0b",
   "metadata": {},
   "outputs": [
    {
     "name": "stdout",
     "output_type": "stream",
     "text": [
      "                                                      url        type\n",
      "0                                        br-icloud.com.br    phishing\n",
      "1                     mp3raid.com/music/krizz_kaliko.html      benign\n",
      "2                         bopsecrets.org/rexroth/cr/1.htm      benign\n",
      "3       http://www.garage-pirenne.be/index.php?option=...  defacement\n",
      "4       http://adventure-nicaragua.net/index.php?optio...  defacement\n",
      "...                                                   ...         ...\n",
      "651186            xbox360.ign.com/objects/850/850402.html    phishing\n",
      "651187       games.teamxbox.com/xbox-360/1860/Dead-Space/    phishing\n",
      "651188         www.gamespot.com/xbox360/action/deadspace/    phishing\n",
      "651189      en.wikipedia.org/wiki/Dead_Space_(video_game)    phishing\n",
      "651190          www.angelfire.com/goth/devilmaycrytonite/    phishing\n",
      "\n",
      "[651191 rows x 2 columns]\n"
     ]
    }
   ],
   "source": [
    "data['url'] = data['url'].str.replace('[^\\w\\s]','') # preprocessing the data, removing all non-alphanumeric characters and whitespaces from the url column, except underscores\n",
    "print(data)"
   ]
  },
  {
   "cell_type": "code",
   "execution_count": 4,
   "id": "9e785ca3-c595-479a-b5fb-9a81ab6d3adf",
   "metadata": {},
   "outputs": [
    {
     "name": "stdout",
     "output_type": "stream",
     "text": [
      "0                   br-icloud\n",
      "1                     mp3raid\n",
      "2                  bopsecrets\n",
      "3              garage-pirenne\n",
      "4         adventure-nicaragua\n",
      "                 ...         \n",
      "651186                    ign\n",
      "651187               teamxbox\n",
      "651188               gamespot\n",
      "651189              wikipedia\n",
      "651190              angelfire\n",
      "Name: domain, Length: 651191, dtype: object\n",
      "0         com.br\n",
      "1            com\n",
      "2            org\n",
      "3             be\n",
      "4            net\n",
      "           ...  \n",
      "651186       com\n",
      "651187       com\n",
      "651188       com\n",
      "651189       org\n",
      "651190       com\n",
      "Name: suffix, Length: 651191, dtype: object\n"
     ]
    }
   ],
   "source": [
    "data['domain'] = data['url'].apply(lambda url: tldextract.extract(url).domain) # extract the domain from the url\n",
    "print(data['domain'])\n",
    "data['suffix'] = data['url'].apply(lambda url: tldextract.extract(url).suffix) # extract the suffix from the url\n",
    "print(data['suffix'])"
   ]
  },
  {
   "cell_type": "code",
   "execution_count": 24,
   "id": "a3dc0da4-0174-4547-ae22-e4fd20b6aedd",
   "metadata": {},
   "outputs": [],
   "source": [
    "# vectorizing my data, converting nominal into numerical attricutes\n",
    "vectorizer = CountVectorizer()\n",
    "features = vectorizer.fit_transform(data['domain'] + ' ' + data['suffix'])"
   ]
  },
  {
   "cell_type": "code",
   "execution_count": 25,
   "id": "79f71545-9f5c-499c-b6fd-907d1fdf8a10",
   "metadata": {},
   "outputs": [],
   "source": [
    "# Split the data\n",
    "X_train, X_test, y_train, y_test = train_test_split(features, data['type'], test_size=0.2, random_state=42)"
   ]
  },
  {
   "cell_type": "code",
   "execution_count": 26,
   "id": "5b58d0af-2d25-4971-8bf8-e1d89b1e8e82",
   "metadata": {},
   "outputs": [
    {
     "data": {
      "text/html": [
       "<style>#sk-container-id-3 {color: black;background-color: white;}#sk-container-id-3 pre{padding: 0;}#sk-container-id-3 div.sk-toggleable {background-color: white;}#sk-container-id-3 label.sk-toggleable__label {cursor: pointer;display: block;width: 100%;margin-bottom: 0;padding: 0.3em;box-sizing: border-box;text-align: center;}#sk-container-id-3 label.sk-toggleable__label-arrow:before {content: \"▸\";float: left;margin-right: 0.25em;color: #696969;}#sk-container-id-3 label.sk-toggleable__label-arrow:hover:before {color: black;}#sk-container-id-3 div.sk-estimator:hover label.sk-toggleable__label-arrow:before {color: black;}#sk-container-id-3 div.sk-toggleable__content {max-height: 0;max-width: 0;overflow: hidden;text-align: left;background-color: #f0f8ff;}#sk-container-id-3 div.sk-toggleable__content pre {margin: 0.2em;color: black;border-radius: 0.25em;background-color: #f0f8ff;}#sk-container-id-3 input.sk-toggleable__control:checked~div.sk-toggleable__content {max-height: 200px;max-width: 100%;overflow: auto;}#sk-container-id-3 input.sk-toggleable__control:checked~label.sk-toggleable__label-arrow:before {content: \"▾\";}#sk-container-id-3 div.sk-estimator input.sk-toggleable__control:checked~label.sk-toggleable__label {background-color: #d4ebff;}#sk-container-id-3 div.sk-label input.sk-toggleable__control:checked~label.sk-toggleable__label {background-color: #d4ebff;}#sk-container-id-3 input.sk-hidden--visually {border: 0;clip: rect(1px 1px 1px 1px);clip: rect(1px, 1px, 1px, 1px);height: 1px;margin: -1px;overflow: hidden;padding: 0;position: absolute;width: 1px;}#sk-container-id-3 div.sk-estimator {font-family: monospace;background-color: #f0f8ff;border: 1px dotted black;border-radius: 0.25em;box-sizing: border-box;margin-bottom: 0.5em;}#sk-container-id-3 div.sk-estimator:hover {background-color: #d4ebff;}#sk-container-id-3 div.sk-parallel-item::after {content: \"\";width: 100%;border-bottom: 1px solid gray;flex-grow: 1;}#sk-container-id-3 div.sk-label:hover label.sk-toggleable__label {background-color: #d4ebff;}#sk-container-id-3 div.sk-serial::before {content: \"\";position: absolute;border-left: 1px solid gray;box-sizing: border-box;top: 0;bottom: 0;left: 50%;z-index: 0;}#sk-container-id-3 div.sk-serial {display: flex;flex-direction: column;align-items: center;background-color: white;padding-right: 0.2em;padding-left: 0.2em;position: relative;}#sk-container-id-3 div.sk-item {position: relative;z-index: 1;}#sk-container-id-3 div.sk-parallel {display: flex;align-items: stretch;justify-content: center;background-color: white;position: relative;}#sk-container-id-3 div.sk-item::before, #sk-container-id-3 div.sk-parallel-item::before {content: \"\";position: absolute;border-left: 1px solid gray;box-sizing: border-box;top: 0;bottom: 0;left: 50%;z-index: -1;}#sk-container-id-3 div.sk-parallel-item {display: flex;flex-direction: column;z-index: 1;position: relative;background-color: white;}#sk-container-id-3 div.sk-parallel-item:first-child::after {align-self: flex-end;width: 50%;}#sk-container-id-3 div.sk-parallel-item:last-child::after {align-self: flex-start;width: 50%;}#sk-container-id-3 div.sk-parallel-item:only-child::after {width: 0;}#sk-container-id-3 div.sk-dashed-wrapped {border: 1px dashed gray;margin: 0 0.4em 0.5em 0.4em;box-sizing: border-box;padding-bottom: 0.4em;background-color: white;}#sk-container-id-3 div.sk-label label {font-family: monospace;font-weight: bold;display: inline-block;line-height: 1.2em;}#sk-container-id-3 div.sk-label-container {text-align: center;}#sk-container-id-3 div.sk-container {/* jupyter's `normalize.less` sets `[hidden] { display: none; }` but bootstrap.min.css set `[hidden] { display: none !important; }` so we also need the `!important` here to be able to override the default hidden behavior on the sphinx rendered scikit-learn.org. See: https://github.com/scikit-learn/scikit-learn/issues/21755 */display: inline-block !important;position: relative;}#sk-container-id-3 div.sk-text-repr-fallback {display: none;}</style><div id=\"sk-container-id-3\" class=\"sk-top-container\"><div class=\"sk-text-repr-fallback\"><pre>LogisticRegression(max_iter=1000)</pre><b>In a Jupyter environment, please rerun this cell to show the HTML representation or trust the notebook. <br />On GitHub, the HTML representation is unable to render, please try loading this page with nbviewer.org.</b></div><div class=\"sk-container\" hidden><div class=\"sk-item\"><div class=\"sk-estimator sk-toggleable\"><input class=\"sk-toggleable__control sk-hidden--visually\" id=\"sk-estimator-id-3\" type=\"checkbox\" checked><label for=\"sk-estimator-id-3\" class=\"sk-toggleable__label sk-toggleable__label-arrow\">LogisticRegression</label><div class=\"sk-toggleable__content\"><pre>LogisticRegression(max_iter=1000)</pre></div></div></div></div></div>"
      ],
      "text/plain": [
       "LogisticRegression(max_iter=1000)"
      ]
     },
     "execution_count": 26,
     "metadata": {},
     "output_type": "execute_result"
    }
   ],
   "source": [
    "# Train your model\n",
    "model = LogisticRegression(max_iter=1000)\n",
    "model.fit(X_train, y_train)"
   ]
  },
  {
   "cell_type": "code",
   "execution_count": 27,
   "id": "635a20f9-ea22-4dbc-ad6c-7dc4c671c560",
   "metadata": {},
   "outputs": [
    {
     "name": "stdout",
     "output_type": "stream",
     "text": [
      "['benign']\n"
     ]
    }
   ],
   "source": [
    "# Now you can use your trained model to predict new URLs\n",
    "new_url = 'dobridaskalov.edu.mk'\n",
    "new_features = vectorizer.transform([new_url])\n",
    "prediction = model.predict(new_features)\n",
    "print(prediction)"
   ]
  },
  {
   "cell_type": "code",
   "execution_count": null,
   "id": "c4bcb705-e646-4fc9-ba38-340894471a4a",
   "metadata": {},
   "outputs": [],
   "source": []
  }
 ],
 "metadata": {
  "kernelspec": {
   "display_name": "Python 3 (ipykernel)",
   "language": "python",
   "name": "python3"
  },
  "language_info": {
   "codemirror_mode": {
    "name": "ipython",
    "version": 3
   },
   "file_extension": ".py",
   "mimetype": "text/x-python",
   "name": "python",
   "nbconvert_exporter": "python",
   "pygments_lexer": "ipython3",
   "version": "3.11.5"
  }
 },
 "nbformat": 4,
 "nbformat_minor": 5
}
