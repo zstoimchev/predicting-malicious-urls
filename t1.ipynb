{
 "cells": [
  {
   "cell_type": "code",
   "execution_count": 1,
   "id": "f44c7ac3-763c-406c-af7b-ec3dad370609",
   "metadata": {},
   "outputs": [],
   "source": [
    "import pandas as pd\n",
    "import tldextract\n",
    "from sklearn.feature_extraction.text import CountVectorizer\n",
    "from sklearn.model_selection import train_test_split\n",
    "from sklearn.linear_model import LogisticRegression"
   ]
  },
  {
   "cell_type": "code",
   "execution_count": 2,
   "id": "1d2ce438-6b9d-42f4-bea2-e25ec646bbc0",
   "metadata": {},
   "outputs": [
    {
     "name": "stdout",
     "output_type": "stream",
     "text": [
      "                                                      url        type\n",
      "0                                        br-icloud.com.br    phishing\n",
      "1                     mp3raid.com/music/krizz_kaliko.html      benign\n",
      "2                         bopsecrets.org/rexroth/cr/1.htm      benign\n",
      "3       http://www.garage-pirenne.be/index.php?option=...  defacement\n",
      "4       http://adventure-nicaragua.net/index.php?optio...  defacement\n",
      "...                                                   ...         ...\n",
      "651186            xbox360.ign.com/objects/850/850402.html    phishing\n",
      "651187       games.teamxbox.com/xbox-360/1860/Dead-Space/    phishing\n",
      "651188         www.gamespot.com/xbox360/action/deadspace/    phishing\n",
      "651189      en.wikipedia.org/wiki/Dead_Space_(video_game)    phishing\n",
      "651190          www.angelfire.com/goth/devilmaycrytonite/    phishing\n",
      "\n",
      "[651191 rows x 2 columns]\n"
     ]
    }
   ],
   "source": [
    "data = pd.read_csv('dataset/malicious_phish.csv') # loading the data from the dataset\n",
    "print(data)"
   ]
  },
  {
   "cell_type": "code",
   "execution_count": 3,
   "id": "7690139a-79b5-4be3-a6d4-6422313a0e0b",
   "metadata": {},
   "outputs": [
    {
     "name": "stdout",
     "output_type": "stream",
     "text": [
      "                                                      url        type\n",
      "0                                        br-icloud.com.br    phishing\n",
      "1                     mp3raid.com/music/krizz_kaliko.html      benign\n",
      "2                         bopsecrets.org/rexroth/cr/1.htm      benign\n",
      "3       http://www.garage-pirenne.be/index.php?option=...  defacement\n",
      "4       http://adventure-nicaragua.net/index.php?optio...  defacement\n",
      "...                                                   ...         ...\n",
      "651186            xbox360.ign.com/objects/850/850402.html    phishing\n",
      "651187       games.teamxbox.com/xbox-360/1860/Dead-Space/    phishing\n",
      "651188         www.gamespot.com/xbox360/action/deadspace/    phishing\n",
      "651189      en.wikipedia.org/wiki/Dead_Space_(video_game)    phishing\n",
      "651190          www.angelfire.com/goth/devilmaycrytonite/    phishing\n",
      "\n",
      "[651191 rows x 2 columns]\n"
     ]
    }
   ],
   "source": [
    "data['url'] = data['url'].str.replace('[^\\w\\s]','') # preprocessing the data, removing all non-alphanumeric characters and whitespaces from the url column, except underscores\n",
    "print(data)"
   ]
  },
  {
   "cell_type": "code",
   "execution_count": 4,
   "id": "9e785ca3-c595-479a-b5fb-9a81ab6d3adf",
   "metadata": {},
   "outputs": [
    {
     "name": "stdout",
     "output_type": "stream",
     "text": [
      "0                   br-icloud\n",
      "1                     mp3raid\n",
      "2                  bopsecrets\n",
      "3              garage-pirenne\n",
      "4         adventure-nicaragua\n",
      "                 ...         \n",
      "651186                    ign\n",
      "651187               teamxbox\n",
      "651188               gamespot\n",
      "651189              wikipedia\n",
      "651190              angelfire\n",
      "Name: domain, Length: 651191, dtype: object\n",
      "0         com.br\n",
      "1            com\n",
      "2            org\n",
      "3             be\n",
      "4            net\n",
      "           ...  \n",
      "651186       com\n",
      "651187       com\n",
      "651188       com\n",
      "651189       org\n",
      "651190       com\n",
      "Name: suffix, Length: 651191, dtype: object\n"
     ]
    }
   ],
   "source": [
    "data['domain'] = data['url'].apply(lambda url: tldextract.extract(url).domain) # extract the domain from the url\n",
    "print(data['domain'])\n",
    "data['suffix'] = data['url'].apply(lambda url: tldextract.extract(url).suffix) # extract the suffix from the url\n",
    "print(data['suffix'])"
   ]
  },
  {
   "cell_type": "code",
   "execution_count": 24,
   "id": "a3dc0da4-0174-4547-ae22-e4fd20b6aedd",
   "metadata": {},
   "outputs": [],
   "source": [
    "# vectorizing my data, converting nominal into numerical attricutes\n",
    "vectorizer = CountVectorizer()\n",
    "features = vectorizer.fit_transform(data['domain'] + ' ' + data['suffix'])"
   ]
  },
  {
   "cell_type": "code",
   "execution_count": 25,
   "id": "79f71545-9f5c-499c-b6fd-907d1fdf8a10",
   "metadata": {},
   "outputs": [],
   "source": [
    "# Split the data\n",
    "X_train, X_test, y_train, y_test = train_test_split(features, data['type'], test_size=0.2, random_state=42)"
   ]
  },
  {
   "cell_type": "code",
   "execution_count": null,
   "id": "5b58d0af-2d25-4971-8bf8-e1d89b1e8e82",
   "metadata": {},
   "outputs": [],
   "source": [
    "# Train your model\n",
    "model = LogisticRegression(max_iter=1000)\n",
    "model.fit(X_train, y_train)"
   ]
  },
  {
   "cell_type": "code",
   "execution_count": null,
   "id": "635a20f9-ea22-4dbc-ad6c-7dc4c671c560",
   "metadata": {},
   "outputs": [],
   "source": []
  }
 ],
 "metadata": {
  "kernelspec": {
   "display_name": "Python 3 (ipykernel)",
   "language": "python",
   "name": "python3"
  },
  "language_info": {
   "codemirror_mode": {
    "name": "ipython",
    "version": 3
   },
   "file_extension": ".py",
   "mimetype": "text/x-python",
   "name": "python",
   "nbconvert_exporter": "python",
   "pygments_lexer": "ipython3",
   "version": "3.11.5"
  }
 },
 "nbformat": 4,
 "nbformat_minor": 5
}
